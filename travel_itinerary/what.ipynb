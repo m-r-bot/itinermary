{
 "cells": [
  {
   "cell_type": "code",
   "execution_count": 25,
   "metadata": {},
   "outputs": [],
   "source": [
    "import pandas as pd\n",
    "import folium\n",
    "import googlemaps\n",
    "from datetime import datetime\n",
    "import numpy as np\n",
    "from sklearn.neighbors import NearestNeighbors\n",
    "from scipy.spatial.distance import cdist\n",
    "from config import API_KEY\n",
    "\n",
    "api_key= API_KEY\n",
    "\n",
    "# Load destinations from a text file\n",
    "def load_destinations(file_path):\n",
    "    destinations = []\n",
    "    with open(file_path, 'r') as file:\n",
    "        for line in file:\n",
    "            destination = line.strip()\n",
    "            if destination:\n",
    "                destinations.append(destination)\n",
    "    return destinations\n",
    "\n",
    "def get_lat_lon(destination, api_key):\n",
    "    \"\"\"\n",
    "    Get latitude and longitude of a destination using geocoding.\n",
    "    geocode should be the cheapest here\n",
    "    \"\"\"\n",
    "    gmaps = googlemaps.Client(key=api_key)\n",
    "    try:\n",
    "        result = gmaps.geocode(destination)\n",
    "        lat = result[0][\"geometry\"][\"location\"][\"lat\"]\n",
    "        lon = result[0][\"geometry\"][\"location\"][\"lng\"]\n",
    "        return lat, lon\n",
    "    except googlemaps.exceptions.ApiError as e:\n",
    "        print(\"Error occurred while retrieving geocode: {}\".format(e))\n",
    "        return None, None\n",
    "    except:\n",
    "        return None, None\n",
    "\n",
    "def add_lat_lon_to_dataframe(destinations, api_key=api_key):\n",
    "    \"\"\"\n",
    "    Loop through a list of destinations, get their latitude and longitude using geocoding,\n",
    "    and append the latitude and longitude to a new column in a pandas dataframe.\n",
    "    \"\"\"\n",
    "    # Create an empty dataframe to store the results\n",
    "    df = pd.DataFrame(columns=['Destination', 'Latitude', 'Longitude'])\n",
    "    \n",
    "    # Loop through the list of destinations and add the latitude and longitude to the dataframe\n",
    "    for destination in destinations:\n",
    "        lat, lon = get_lat_lon(destination, api_key)\n",
    "        df = df.append({'Destination': destination, 'Latitude': lat, 'Longitude': lon}, ignore_index=True)\n",
    "    \n",
    "    return df\n"
   ]
  },
  {
   "cell_type": "code",
   "execution_count": 43,
   "metadata": {},
   "outputs": [],
   "source": [
    "def generate_shortest_path(destinations, api_key=api_key):\n",
    "\n",
    "    df = add_lat_lon_to_dataframe(destinations, api_key)\n",
    "    return df"
   ]
  },
  {
   "cell_type": "code",
   "execution_count": 117,
   "metadata": {},
   "outputs": [],
   "source": [
    "destination = [\"Kwun Tong\", \"Kowloon Tong\", \"Hang Hau\", \"Yuen Long\",\"Kwai Hing\"]"
   ]
  },
  {
   "cell_type": "code",
   "execution_count": 118,
   "metadata": {},
   "outputs": [
    {
     "name": "stderr",
     "output_type": "stream",
     "text": [
      "C:\\Users\\maria\\AppData\\Local\\Temp\\ipykernel_12956\\292304892.py:50: FutureWarning: The frame.append method is deprecated and will be removed from pandas in a future version. Use pandas.concat instead.\n",
      "  df = df.append({'Destination': destination, 'Latitude': lat, 'Longitude': lon}, ignore_index=True)\n",
      "C:\\Users\\maria\\AppData\\Local\\Temp\\ipykernel_12956\\292304892.py:50: FutureWarning: The frame.append method is deprecated and will be removed from pandas in a future version. Use pandas.concat instead.\n",
      "  df = df.append({'Destination': destination, 'Latitude': lat, 'Longitude': lon}, ignore_index=True)\n",
      "C:\\Users\\maria\\AppData\\Local\\Temp\\ipykernel_12956\\292304892.py:50: FutureWarning: The frame.append method is deprecated and will be removed from pandas in a future version. Use pandas.concat instead.\n",
      "  df = df.append({'Destination': destination, 'Latitude': lat, 'Longitude': lon}, ignore_index=True)\n",
      "C:\\Users\\maria\\AppData\\Local\\Temp\\ipykernel_12956\\292304892.py:50: FutureWarning: The frame.append method is deprecated and will be removed from pandas in a future version. Use pandas.concat instead.\n",
      "  df = df.append({'Destination': destination, 'Latitude': lat, 'Longitude': lon}, ignore_index=True)\n",
      "C:\\Users\\maria\\AppData\\Local\\Temp\\ipykernel_12956\\292304892.py:50: FutureWarning: The frame.append method is deprecated and will be removed from pandas in a future version. Use pandas.concat instead.\n",
      "  df = df.append({'Destination': destination, 'Latitude': lat, 'Longitude': lon}, ignore_index=True)\n"
     ]
    }
   ],
   "source": [
    "coor_df = generate_shortest_path(destination)\n"
   ]
  },
  {
   "cell_type": "code",
   "execution_count": 119,
   "metadata": {},
   "outputs": [
    {
     "data": {
      "text/plain": [
       "array([[ 22.3103686, 114.2227035],\n",
       "       [ 22.3369319, 114.1763367],\n",
       "       [ 22.3172623, 114.2672828],\n",
       "       [ 22.4445376, 114.0222076],\n",
       "       [ 22.3630576, 114.13121  ]])"
      ]
     },
     "execution_count": 119,
     "metadata": {},
     "output_type": "execute_result"
    }
   ],
   "source": [
    "coordinate_array = coor_df.iloc[:,1:].values\n",
    "coordinate_array"
   ]
  },
  {
   "cell_type": "code",
   "execution_count": 135,
   "metadata": {},
   "outputs": [
    {
     "ename": "AttributeError",
     "evalue": "'Series' object has no attribute 'value'",
     "output_type": "error",
     "traceback": [
      "\u001b[1;31m---------------------------------------------------------------------------\u001b[0m",
      "\u001b[1;31mAttributeError\u001b[0m                            Traceback (most recent call last)",
      "\u001b[1;32m~\\AppData\\Local\\Temp\\ipykernel_12956\\971880061.py\u001b[0m in \u001b[0;36m<module>\u001b[1;34m\u001b[0m\n\u001b[1;32m----> 1\u001b[1;33m \u001b[0mcoor_df\u001b[0m\u001b[1;33m[\u001b[0m\u001b[1;34m\"Destination\"\u001b[0m\u001b[1;33m]\u001b[0m\u001b[1;33m.\u001b[0m\u001b[0mvalue\u001b[0m\u001b[1;33m\u001b[0m\u001b[1;33m\u001b[0m\u001b[0m\n\u001b[0m",
      "\u001b[1;32mc:\\Users\\maria\\anaconda3\\lib\\site-packages\\pandas\\core\\generic.py\u001b[0m in \u001b[0;36m__getattr__\u001b[1;34m(self, name)\u001b[0m\n\u001b[0;32m   5573\u001b[0m         ):\n\u001b[0;32m   5574\u001b[0m             \u001b[1;32mreturn\u001b[0m \u001b[0mself\u001b[0m\u001b[1;33m[\u001b[0m\u001b[0mname\u001b[0m\u001b[1;33m]\u001b[0m\u001b[1;33m\u001b[0m\u001b[1;33m\u001b[0m\u001b[0m\n\u001b[1;32m-> 5575\u001b[1;33m         \u001b[1;32mreturn\u001b[0m \u001b[0mobject\u001b[0m\u001b[1;33m.\u001b[0m\u001b[0m__getattribute__\u001b[0m\u001b[1;33m(\u001b[0m\u001b[0mself\u001b[0m\u001b[1;33m,\u001b[0m \u001b[0mname\u001b[0m\u001b[1;33m)\u001b[0m\u001b[1;33m\u001b[0m\u001b[1;33m\u001b[0m\u001b[0m\n\u001b[0m\u001b[0;32m   5576\u001b[0m \u001b[1;33m\u001b[0m\u001b[0m\n\u001b[0;32m   5577\u001b[0m     \u001b[1;32mdef\u001b[0m \u001b[0m__setattr__\u001b[0m\u001b[1;33m(\u001b[0m\u001b[0mself\u001b[0m\u001b[1;33m,\u001b[0m \u001b[0mname\u001b[0m\u001b[1;33m:\u001b[0m \u001b[0mstr\u001b[0m\u001b[1;33m,\u001b[0m \u001b[0mvalue\u001b[0m\u001b[1;33m)\u001b[0m \u001b[1;33m->\u001b[0m \u001b[1;32mNone\u001b[0m\u001b[1;33m:\u001b[0m\u001b[1;33m\u001b[0m\u001b[1;33m\u001b[0m\u001b[0m\n",
      "\u001b[1;31mAttributeError\u001b[0m: 'Series' object has no attribute 'value'"
     ]
    }
   ],
   "source": [
    "\n",
    "coor_df[\"Destination\"].value"
   ]
  },
  {
   "cell_type": "code",
   "execution_count": 133,
   "metadata": {},
   "outputs": [
    {
     "data": {
      "text/plain": [
       "\"edward is dumb['hong kong', 'eng', 'ita']\""
      ]
     },
     "execution_count": 133,
     "metadata": {},
     "output_type": "execute_result"
    }
   ],
   "source": [
    "\"edward is dumb\" + str([\"hong kong\", \"eng\",\"ita\"])"
   ]
  },
  {
   "cell_type": "code",
   "execution_count": 97,
   "metadata": {},
   "outputs": [
    {
     "data": {
      "text/plain": [
       "array([[1.05504895, 2.89279768, 1.20847651, 2.05545421]])"
      ]
     },
     "execution_count": 97,
     "metadata": {},
     "output_type": "execute_result"
    }
   ],
   "source": [
    "distances"
   ]
  },
  {
   "cell_type": "code",
   "execution_count": 122,
   "metadata": {},
   "outputs": [
    {
     "name": "stdout",
     "output_type": "stream",
     "text": [
      "[[ 22.3172623 114.2672828]\n",
      " [ 22.3103686 114.2227035]\n",
      " [ 22.3369319 114.1763367]\n",
      " [ 22.3630576 114.13121  ]\n",
      " [ 22.4445376 114.0222076]]\n"
     ]
    }
   ],
   "source": [
    "import numpy as np\n",
    "from scipy.spatial.distance import cdist\n",
    "\n",
    "# create a copy of the coordinate_array\n",
    "remaining_location = coordinate_array.copy()\n",
    "itinerary_list = []\n",
    "\n",
    "# choose an arbitrary starting index\n",
    "start_index = 2\n",
    "\n",
    "while len(remaining_location) > 0:\n",
    "    start = remaining_location[start_index]\n",
    "\n",
    "    itinerary_list.append(start)\n",
    "\n",
    "    # delete the already visited location\n",
    "    remaining_location = np.delete(remaining_location, start_index, axis=0)\n",
    "\n",
    "    if len(remaining_location) > 0:\n",
    "        distances = cdist([start], remaining_location)\n",
    "        closest_index = np.argmin(distances)\n",
    "        start_index = closest_index\n",
    "    else:\n",
    "        break\n",
    "\n",
    "itinerary_list = np.array(itinerary_list)\n",
    "\n",
    "final_itinerary = pd.DataFrame()\n",
    "for iters in range(len(itinerary_list)):\n",
    "    sorted_temp_df = coor_df.query(\"(Latitude =={}) & (Longitude == {})\".format(itinerary_list[iters][0],itinerary_list[iters][1]))\n",
    "    final_itinerary = pd.concat([final_itinerary, sorted_temp_df])\n",
    "final_itinerary.reset_index(inplace=True, drop=True)"
   ]
  },
  {
   "cell_type": "code",
   "execution_count": 123,
   "metadata": {},
   "outputs": [
    {
     "data": {
      "text/plain": [
       "array([[ 22.3172623, 114.2672828],\n",
       "       [ 22.3103686, 114.2227035],\n",
       "       [ 22.3369319, 114.1763367],\n",
       "       [ 22.3630576, 114.13121  ],\n",
       "       [ 22.4445376, 114.0222076]])"
      ]
     },
     "execution_count": 123,
     "metadata": {},
     "output_type": "execute_result"
    }
   ],
   "source": [
    "itinerary_list"
   ]
  },
  {
   "cell_type": "code",
   "execution_count": 130,
   "metadata": {},
   "outputs": [],
   "source": []
  },
  {
   "cell_type": "code",
   "execution_count": 131,
   "metadata": {},
   "outputs": [
    {
     "data": {
      "text/html": [
       "<div>\n",
       "<style scoped>\n",
       "    .dataframe tbody tr th:only-of-type {\n",
       "        vertical-align: middle;\n",
       "    }\n",
       "\n",
       "    .dataframe tbody tr th {\n",
       "        vertical-align: top;\n",
       "    }\n",
       "\n",
       "    .dataframe thead th {\n",
       "        text-align: right;\n",
       "    }\n",
       "</style>\n",
       "<table border=\"1\" class=\"dataframe\">\n",
       "  <thead>\n",
       "    <tr style=\"text-align: right;\">\n",
       "      <th></th>\n",
       "      <th>Destination</th>\n",
       "      <th>Latitude</th>\n",
       "      <th>Longitude</th>\n",
       "    </tr>\n",
       "  </thead>\n",
       "  <tbody>\n",
       "    <tr>\n",
       "      <th>0</th>\n",
       "      <td>Hang Hau</td>\n",
       "      <td>22.317262</td>\n",
       "      <td>114.267283</td>\n",
       "    </tr>\n",
       "    <tr>\n",
       "      <th>1</th>\n",
       "      <td>Kwun Tong</td>\n",
       "      <td>22.310369</td>\n",
       "      <td>114.222703</td>\n",
       "    </tr>\n",
       "    <tr>\n",
       "      <th>2</th>\n",
       "      <td>Kowloon Tong</td>\n",
       "      <td>22.336932</td>\n",
       "      <td>114.176337</td>\n",
       "    </tr>\n",
       "    <tr>\n",
       "      <th>3</th>\n",
       "      <td>Kwai Hing</td>\n",
       "      <td>22.363058</td>\n",
       "      <td>114.131210</td>\n",
       "    </tr>\n",
       "    <tr>\n",
       "      <th>4</th>\n",
       "      <td>Yuen Long</td>\n",
       "      <td>22.444538</td>\n",
       "      <td>114.022208</td>\n",
       "    </tr>\n",
       "  </tbody>\n",
       "</table>\n",
       "</div>"
      ],
      "text/plain": [
       "    Destination   Latitude   Longitude\n",
       "0      Hang Hau  22.317262  114.267283\n",
       "1     Kwun Tong  22.310369  114.222703\n",
       "2  Kowloon Tong  22.336932  114.176337\n",
       "3     Kwai Hing  22.363058  114.131210\n",
       "4     Yuen Long  22.444538  114.022208"
      ]
     },
     "execution_count": 131,
     "metadata": {},
     "output_type": "execute_result"
    }
   ],
   "source": [
    "final_itinerary"
   ]
  },
  {
   "cell_type": "code",
   "execution_count": 85,
   "metadata": {},
   "outputs": [
    {
     "data": {
      "text/plain": [
       "0"
      ]
     },
     "execution_count": 85,
     "metadata": {},
     "output_type": "execute_result"
    }
   ],
   "source": [
    "np.argmin(distances)"
   ]
  },
  {
   "cell_type": "code",
   "execution_count": 42,
   "metadata": {},
   "outputs": [
    {
     "data": {
      "text/plain": [
       "array([51.5072178, -0.1275862])"
      ]
     },
     "execution_count": 42,
     "metadata": {},
     "output_type": "execute_result"
    }
   ],
   "source": [
    "# example from chat\n",
    "\n",
    "# Define a point A\n",
    "A = np.array([1.5, 1.5])\n",
    "\n",
    "# Calculate the distances between A and all the other points\n",
    "distances = cdist([A], points)\n",
    "\n",
    "# Get the index of the closest point\n",
    "closest_index = np.argmin(distances)\n",
    "\n",
    "# Get the closest point\n",
    "closest_point = points[closest_index]\n",
    "\n",
    "# Calculate the distances between the closest point and all the other points\n",
    "distances = cdist([closest_point], points)\n",
    "\n",
    "# Sort the distances and choose the smallest non-zero distance\n",
    "sorted_distances = np.sort(distances)\n",
    "next_closest_distance = sorted_distances[sorted_distances > 0][0]"
   ]
  },
  {
   "cell_type": "code",
   "execution_count": null,
   "metadata": {},
   "outputs": [],
   "source": []
  },
  {
   "cell_type": "code",
   "execution_count": 24,
   "metadata": {},
   "outputs": [
    {
     "ename": "TypeError",
     "evalue": "get_lat_lon() takes 1 positional argument but 2 were given",
     "output_type": "error",
     "traceback": [
      "\u001b[1;31m---------------------------------------------------------------------------\u001b[0m",
      "\u001b[1;31mTypeError\u001b[0m                                 Traceback (most recent call last)",
      "\u001b[1;32m~\\AppData\\Local\\Temp\\ipykernel_12956\\334641284.py\u001b[0m in \u001b[0;36m<module>\u001b[1;34m\u001b[0m\n\u001b[1;32m----> 1\u001b[1;33m \u001b[0madd_lat_lon_to_dataframe\u001b[0m\u001b[1;33m(\u001b[0m\u001b[0mdestination\u001b[0m\u001b[1;33m)\u001b[0m\u001b[1;33m\u001b[0m\u001b[1;33m\u001b[0m\u001b[0m\n\u001b[0m",
      "\u001b[1;32m~\\AppData\\Local\\Temp\\ipykernel_12956\\1033623418.py\u001b[0m in \u001b[0;36madd_lat_lon_to_dataframe\u001b[1;34m(destinations, api_key)\u001b[0m\n\u001b[0;32m     47\u001b[0m     \u001b[1;31m# Loop through the list of destinations and add the latitude and longitude to the dataframe\u001b[0m\u001b[1;33m\u001b[0m\u001b[1;33m\u001b[0m\u001b[0m\n\u001b[0;32m     48\u001b[0m     \u001b[1;32mfor\u001b[0m \u001b[0mdestination\u001b[0m \u001b[1;32min\u001b[0m \u001b[0mdestinations\u001b[0m\u001b[1;33m:\u001b[0m\u001b[1;33m\u001b[0m\u001b[1;33m\u001b[0m\u001b[0m\n\u001b[1;32m---> 49\u001b[1;33m         \u001b[0mlat\u001b[0m\u001b[1;33m,\u001b[0m \u001b[0mlon\u001b[0m \u001b[1;33m=\u001b[0m \u001b[0mget_lat_lon\u001b[0m\u001b[1;33m(\u001b[0m\u001b[0mdestination\u001b[0m\u001b[1;33m,\u001b[0m \u001b[0mapi_key\u001b[0m\u001b[1;33m)\u001b[0m\u001b[1;33m\u001b[0m\u001b[1;33m\u001b[0m\u001b[0m\n\u001b[0m\u001b[0;32m     50\u001b[0m         \u001b[0mdf\u001b[0m \u001b[1;33m=\u001b[0m \u001b[0mdf\u001b[0m\u001b[1;33m.\u001b[0m\u001b[0mappend\u001b[0m\u001b[1;33m(\u001b[0m\u001b[1;33m{\u001b[0m\u001b[1;34m'Destination'\u001b[0m\u001b[1;33m:\u001b[0m \u001b[0mdestination\u001b[0m\u001b[1;33m,\u001b[0m \u001b[1;34m'Latitude'\u001b[0m\u001b[1;33m:\u001b[0m \u001b[0mlat\u001b[0m\u001b[1;33m,\u001b[0m \u001b[1;34m'Longitude'\u001b[0m\u001b[1;33m:\u001b[0m \u001b[0mlon\u001b[0m\u001b[1;33m}\u001b[0m\u001b[1;33m,\u001b[0m \u001b[0mignore_index\u001b[0m\u001b[1;33m=\u001b[0m\u001b[1;32mTrue\u001b[0m\u001b[1;33m)\u001b[0m\u001b[1;33m\u001b[0m\u001b[1;33m\u001b[0m\u001b[0m\n\u001b[0;32m     51\u001b[0m \u001b[1;33m\u001b[0m\u001b[0m\n",
      "\u001b[1;31mTypeError\u001b[0m: get_lat_lon() takes 1 positional argument but 2 were given"
     ]
    }
   ],
   "source": [
    "add_lat_lon_to_dataframe(destination)"
   ]
  },
  {
   "cell_type": "code",
   "execution_count": 116,
   "metadata": {},
   "outputs": [
    {
     "data": {
      "text/html": [
       "<div>\n",
       "<style scoped>\n",
       "    .dataframe tbody tr th:only-of-type {\n",
       "        vertical-align: middle;\n",
       "    }\n",
       "\n",
       "    .dataframe tbody tr th {\n",
       "        vertical-align: top;\n",
       "    }\n",
       "\n",
       "    .dataframe thead th {\n",
       "        text-align: right;\n",
       "    }\n",
       "</style>\n",
       "<table border=\"1\" class=\"dataframe\">\n",
       "  <thead>\n",
       "    <tr style=\"text-align: right;\">\n",
       "      <th></th>\n",
       "      <th>Destination</th>\n",
       "      <th>Latitude</th>\n",
       "      <th>Longitude</th>\n",
       "    </tr>\n",
       "  </thead>\n",
       "  <tbody>\n",
       "    <tr>\n",
       "      <th>0</th>\n",
       "      <td>Birmingham</td>\n",
       "      <td>52.486243</td>\n",
       "      <td>-1.890401</td>\n",
       "    </tr>\n",
       "    <tr>\n",
       "      <th>1</th>\n",
       "      <td>London</td>\n",
       "      <td>51.507218</td>\n",
       "      <td>-0.127586</td>\n",
       "    </tr>\n",
       "    <tr>\n",
       "      <th>2</th>\n",
       "      <td>Manchester</td>\n",
       "      <td>53.480759</td>\n",
       "      <td>-2.242631</td>\n",
       "    </tr>\n",
       "    <tr>\n",
       "      <th>3</th>\n",
       "      <td>Nottingham</td>\n",
       "      <td>52.954022</td>\n",
       "      <td>-1.154989</td>\n",
       "    </tr>\n",
       "    <tr>\n",
       "      <th>4</th>\n",
       "      <td>Bristol</td>\n",
       "      <td>51.454513</td>\n",
       "      <td>-2.587910</td>\n",
       "    </tr>\n",
       "  </tbody>\n",
       "</table>\n",
       "</div>"
      ],
      "text/plain": [
       "  Destination   Latitude  Longitude\n",
       "0  Birmingham  52.486243  -1.890401\n",
       "1      London  51.507218  -0.127586\n",
       "2  Manchester  53.480759  -2.242631\n",
       "3  Nottingham  52.954022  -1.154989\n",
       "4     Bristol  51.454513  -2.587910"
      ]
     },
     "execution_count": 116,
     "metadata": {},
     "output_type": "execute_result"
    }
   ],
   "source": [
    "coor_df"
   ]
  },
  {
   "cell_type": "code",
   "execution_count": null,
   "metadata": {},
   "outputs": [],
   "source": []
  }
 ],
 "metadata": {
  "kernelspec": {
   "display_name": "base",
   "language": "python",
   "name": "python3"
  },
  "language_info": {
   "codemirror_mode": {
    "name": "ipython",
    "version": 3
   },
   "file_extension": ".py",
   "mimetype": "text/x-python",
   "name": "python",
   "nbconvert_exporter": "python",
   "pygments_lexer": "ipython3",
   "version": "3.9.13"
  },
  "orig_nbformat": 4
 },
 "nbformat": 4,
 "nbformat_minor": 2
}
